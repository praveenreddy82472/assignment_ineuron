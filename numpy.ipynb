{
 "cells": [
  {
   "cell_type": "markdown",
   "id": "90d4a262",
   "metadata": {},
   "source": [
    "#### Question: Write a function to find moving average in an array over a window Test it over [3, 5, 7, 2, 8, 10, 11, 65, 72, 81, 99, 100,150] and window of 3."
   ]
  },
  {
   "cell_type": "code",
   "execution_count": 3,
   "id": "996a10b1",
   "metadata": {},
   "outputs": [
    {
     "name": "stdout",
     "output_type": "stream",
     "text": [
      "11\n",
      "[5.0, 4.666666666666667, 5.666666666666667, 6.666666666666667, 9.666666666666666, 28.666666666666668, 49.333333333333336, 72.66666666666667, 84.0, 93.33333333333333, 116.33333333333333]\n"
     ]
    }
   ],
   "source": [
    "import numpy as np\n",
    "numpy = np.array([3, 5, 7, 2, 8, 10, 11, 65, 72, 81, 99, 100, 150])\n",
    "k =3\n",
    "n = len(numpy)\n",
    "def move_avg(sequence,size):\n",
    "    move_avg=[]\n",
    "    numberofelements = n-k+1\n",
    "    print(numberofelements)\n",
    "    for i in range(numberofelements):\n",
    "        window = numpy[i:i + k]\n",
    "        avg = sum(window)/k\n",
    "        move_avg.append(avg)\n",
    "    print(move_avg)\n",
    "move_avg(numpy,k)"
   ]
  },
  {
   "cell_type": "code",
   "execution_count": null,
   "id": "9cb44393",
   "metadata": {},
   "outputs": [],
   "source": []
  }
 ],
 "metadata": {
  "kernelspec": {
   "display_name": "Python 3 (ipykernel)",
   "language": "python",
   "name": "python3"
  },
  "language_info": {
   "codemirror_mode": {
    "name": "ipython",
    "version": 3
   },
   "file_extension": ".py",
   "mimetype": "text/x-python",
   "name": "python",
   "nbconvert_exporter": "python",
   "pygments_lexer": "ipython3",
   "version": "3.10.9"
  }
 },
 "nbformat": 4,
 "nbformat_minor": 5
}
